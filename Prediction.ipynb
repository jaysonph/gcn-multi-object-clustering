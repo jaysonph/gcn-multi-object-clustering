{
 "cells": [
  {
   "cell_type": "code",
   "execution_count": 1,
   "metadata": {},
   "outputs": [],
   "source": [
    "from feeder.my_feeder import Feeder\n",
    "import numpy as np\n",
    "from gcn import GCN\n",
    "import os\n",
    "import torch\n",
    "import torch.nn as nn\n",
    "import torch.nn.functional as F\n",
    "import glob\n",
    "from tqdm.notebook import tqdm"
   ]
  },
  {
   "cell_type": "code",
   "execution_count": 2,
   "metadata": {},
   "outputs": [
    {
     "name": "stdout",
     "output_type": "stream",
     "text": [
      "/home/jayson/gcn_clustering/logs/l2_512_k8/epoch_47.ckpt\n"
     ]
    }
   ],
   "source": [
    "working_dir = os.getcwd()\n",
    "\n",
    "f_dim = 512\n",
    "\n",
    "feat_path = os.path.join(working_dir, f'features/l2_512_k8_1_13300.0943/test/feat.json')\n",
    "knn_graph_path = os.path.join(working_dir, f'features/l2_512_k8_1_13300.0943/test/knn_graph.json')\n",
    "label_path = os.path.join(working_dir, f'features/l2_512_k8_1_13300.0943/test/label.json')\n",
    "obj_type_path = os.path.join(working_dir, f'features/l2_512_k8_1_13300.0943/test/obj_type.json')\n",
    "k_at_hop = [8, 5]\n",
    "active_connection = 5\n",
    "seed = 0\n",
    "\n",
    "ckpt_weight_path = glob.glob(os.path.join(working_dir, f'logs/l2_{f_dim}_k8/*.ckpt'))\n",
    "ckpt_weight_path = sorted(ckpt_weight_path, key=lambda x: int(x.split('_')[-1].replace('.ckpt', '')))[-1]\n",
    "print(ckpt_weight_path)\n",
    "\n",
    "device = 'cuda' if torch.cuda.is_available() else 'cpu'"
   ]
  },
  {
   "cell_type": "code",
   "execution_count": 3,
   "metadata": {},
   "outputs": [
    {
     "data": {
      "text/plain": [
       "gcn(\n",
       "  (bn0): BatchNorm1d(512, eps=1e-05, momentum=0.1, affine=False, track_running_stats=True)\n",
       "  (conv1): GraphConv(\n",
       "    (agg): MeanAggregator()\n",
       "  )\n",
       "  (conv2): GraphConv(\n",
       "    (agg): MeanAggregator()\n",
       "  )\n",
       "  (conv3): GraphConv(\n",
       "    (agg): MeanAggregator()\n",
       "  )\n",
       "  (conv4): GraphConv(\n",
       "    (agg): MeanAggregator()\n",
       "  )\n",
       "  (classifier): Sequential(\n",
       "    (0): Linear(in_features=128, out_features=128, bias=True)\n",
       "    (1): PReLU(num_parameters=128)\n",
       "    (2): Linear(in_features=128, out_features=2, bias=True)\n",
       "  )\n",
       ")"
      ]
     },
     "execution_count": 3,
     "metadata": {},
     "output_type": "execute_result"
    }
   ],
   "source": [
    "dataset = Feeder(feat_path, \n",
    "                 knn_graph_path, \n",
    "                 label_path,\n",
    "                 obj_type_path,\n",
    "                 seed,\n",
    "                 k_at_hop,\n",
    "                 active_connection,\n",
    "                 train=False)\n",
    "\n",
    "net = GCN(in_dim=f_dim)\n",
    "weight = torch.load(ckpt_weight_path)['state_dict']\n",
    "net.load_state_dict(weight)\n",
    "net.to(device)\n",
    "net.eval()"
   ]
  },
  {
   "cell_type": "code",
   "execution_count": 4,
   "metadata": {},
   "outputs": [],
   "source": [
    "i = 150\n",
    "feat, adj, cid, h1id, node_list, gtmat, obj_mask = dataset[i]\n",
    "obj_types = torch.tensor(dataset.obj_types[i])"
   ]
  },
  {
   "cell_type": "code",
   "execution_count": 5,
   "metadata": {},
   "outputs": [
    {
     "data": {
      "text/plain": [
       "(torch.Size([38, 49, 512]),\n",
       " torch.Size([38, 49, 49]),\n",
       " torch.Size([38, 1]),\n",
       " torch.Size([38, 8]),\n",
       " torch.Size([38, 49]),\n",
       " torch.Size([38, 8]),\n",
       " torch.Size([38, 8]))"
      ]
     },
     "execution_count": 5,
     "metadata": {},
     "output_type": "execute_result"
    }
   ],
   "source": [
    "feat.shape, adj.shape, cid.shape, h1id.shape, node_list.shape, gtmat.shape, obj_mask.shape"
   ]
  },
  {
   "cell_type": "code",
   "execution_count": 6,
   "metadata": {},
   "outputs": [],
   "source": [
    "feat, adj, cid, h1id, gtmat, obj_mask = map(lambda x: x.to(device), (feat, adj, cid, h1id, gtmat, obj_mask))"
   ]
  },
  {
   "cell_type": "code",
   "execution_count": 7,
   "metadata": {},
   "outputs": [],
   "source": [
    "with torch.no_grad():\n",
    "    pred = net(feat, adj, h1id)\n",
    "\n",
    "pred = F.softmax(pred, dim=1)\n",
    "pred = pred.view(feat.shape[0], k_at_hop[0], 2)"
   ]
  },
  {
   "cell_type": "code",
   "execution_count": 8,
   "metadata": {},
   "outputs": [],
   "source": [
    "def accuracy(pred, label, masks, thres):\n",
    "    pred = (torch.argmax(pred > thres, dim=1) * masks).long()\n",
    "    acc = torch.mean((pred == label).float())\n",
    "    return acc\n",
    "\n",
    "def accuracy(pred, label, masks, thres):\n",
    "    pred = (torch.argmax(pred > thres, dim=1) * masks).long()\n",
    "    acc = torch.mean((pred == label).float())\n",
    "    return acc"
   ]
  },
  {
   "cell_type": "code",
   "execution_count": 9,
   "metadata": {},
   "outputs": [],
   "source": [
    "pred_c = (pred > 0.9).float().argmax(-1)"
   ]
  },
  {
   "cell_type": "code",
   "execution_count": 10,
   "metadata": {},
   "outputs": [
    {
     "data": {
      "text/plain": [
       "torch.Size([38, 8])"
      ]
     },
     "execution_count": 10,
     "metadata": {},
     "output_type": "execute_result"
    }
   ],
   "source": [
    "pred_c.shape"
   ]
  },
  {
   "cell_type": "code",
   "execution_count": 11,
   "metadata": {},
   "outputs": [
    {
     "data": {
      "text/plain": [
       "(0.9769737124443054, 0.9769737124443054)"
      ]
     },
     "execution_count": 11,
     "metadata": {},
     "output_type": "execute_result"
    }
   ],
   "source": [
    "(gtmat == (pred_c * obj_mask)).float().mean().item(), (gtmat == pred_c).float().mean().item()"
   ]
  },
  {
   "cell_type": "markdown",
   "metadata": {},
   "source": [
    "## Final Pred"
   ]
  },
  {
   "cell_type": "code",
   "execution_count": 12,
   "metadata": {},
   "outputs": [],
   "source": [
    "def extract_clusters_from_matrix(pred, obj_mask, obj_types, thres=0.5, prediction=True):\n",
    "    '''\n",
    "    Args:\n",
    "    - mat (torch.int64): [n_nodes, k1]\n",
    "    '''\n",
    "    if prediction:\n",
    "        pred_confs = (pred[:, :, 1] * obj_mask).cpu() * (pred[:, :, 1] > thres).cpu()\n",
    "    else:\n",
    "        pred_confs = pred.float()\n",
    "        \n",
    "    a = torch.zeros(pred_confs.shape[0], pred_confs.shape[0])\n",
    "    for r in range(pred_confs.shape[0]):\n",
    "        n_real_ids = node_list[r][h1id[r].cpu()].long()\n",
    "        a[r, n_real_ids] = pred_confs[r]\n",
    "        \n",
    "    pairs = []\n",
    "    clus_mat = torch.zeros(pred_confs.shape[0], pred_confs.shape[0])\n",
    "    while a.sum().item() != 0:\n",
    "        r, c = list(zip(*torch.where(a == a.max())))[0]\n",
    "        # Zero out\n",
    "        a[r, c] = 0\n",
    "        a[c, r] = 0\n",
    "        r_type_ids = torch.where(obj_types == obj_types[r])[0]\n",
    "        c_type_ids = torch.where(obj_types == obj_types[c])[0]\n",
    "        a[r, c_type_ids] = 0\n",
    "        a[c, r_type_ids] = 0\n",
    "        if clus_mat[r, :].sum().item() < 3 and clus_mat[c, :].sum().item() < 3:\n",
    "            clus_mat[r, c] = 1\n",
    "            clus_mat[c, r] = 1\n",
    "            pairs.append(set([r.item(), c.item()]))\n",
    "\n",
    "    # Clean subsets\n",
    "    clusters = []\n",
    "    nodes2clus = {}\n",
    "    visited_nodes = set()\n",
    "    for (n1, n2) in pairs:\n",
    "        if nodes2clus.get(n1) is None and nodes2clus.get(n2) is None:\n",
    "            clus_id = len(clusters)\n",
    "            nodes2clus[n1] = clus_id\n",
    "            nodes2clus[n2] = clus_id\n",
    "            clusters.append([n1, n2])\n",
    "        elif nodes2clus.get(n1) is not None and nodes2clus.get(n2) is None:\n",
    "            clus_id = nodes2clus[n1]\n",
    "            if len(clusters[clus_id]) < 3:\n",
    "                nodes2clus[n2] = clus_id\n",
    "                clusters[clus_id].append(n2)\n",
    "        elif nodes2clus.get(n1) is None and nodes2clus.get(n2) is not None:\n",
    "            clus_id = nodes2clus[n2]\n",
    "            if len(clusters[clus_id]) < 3:\n",
    "                nodes2clus[n1] = clus_id\n",
    "                clusters[clus_id].append(n1)\n",
    "        elif nodes2clus.get(n1) is not None and nodes2clus.get(n2) is not None:  # merge 2 clusters\n",
    "            n1_clus_id = nodes2clus[n1]\n",
    "            n2_clus_id = nodes2clus[n2]\n",
    "            if n1_clus_id == n2_clus_id:\n",
    "                continue\n",
    "            if len(clusters[n1_clus_id] + clusters[n2_clus_id]) <= 3:\n",
    "                nodes2clus[n1] = n1_clus_id\n",
    "                for ni in clusters[n2_clus_id]:\n",
    "                    nodes2clus[ni] = n1_clus_id\n",
    "                clusters[n1_clus_id] += clusters[n2_clus_id]\n",
    "                clusters.pop(n2_clus_id)\n",
    "    \n",
    "    clusters = [set(i) for i in clusters]\n",
    "    clusters = sorted(clusters, key=lambda x: max(x))\n",
    "            \n",
    "    return pairs, clusters"
   ]
  },
  {
   "cell_type": "code",
   "execution_count": 13,
   "metadata": {},
   "outputs": [],
   "source": [
    "c_, pred_clusters = extract_clusters_from_matrix(pred, obj_mask, obj_types,)\n",
    "_, gt_clusters = extract_clusters_from_matrix(gtmat.cpu(), obj_mask, obj_types, prediction=False)"
   ]
  },
  {
   "cell_type": "code",
   "execution_count": 14,
   "metadata": {},
   "outputs": [
    {
     "data": {
      "text/plain": [
       "[{0, 1},\n",
       " {2, 3, 4},\n",
       " {5, 6},\n",
       " {7, 8},\n",
       " {9, 10},\n",
       " {11, 12},\n",
       " {13, 14, 15},\n",
       " {16, 17, 18},\n",
       " {19, 20, 21},\n",
       " {22, 23, 24},\n",
       " {25, 26},\n",
       " {27, 28},\n",
       " {29, 30},\n",
       " {31, 32},\n",
       " {33, 34, 35},\n",
       " {36, 37}]"
      ]
     },
     "execution_count": 14,
     "metadata": {},
     "output_type": "execute_result"
    }
   ],
   "source": [
    "pred_clusters"
   ]
  },
  {
   "cell_type": "code",
   "execution_count": 15,
   "metadata": {},
   "outputs": [
    {
     "data": {
      "text/plain": [
       "[{0, 1},\n",
       " {2, 3, 4},\n",
       " {5, 6},\n",
       " {7, 8},\n",
       " {9, 10},\n",
       " {11, 12},\n",
       " {13, 14, 15},\n",
       " {16, 17, 18},\n",
       " {19, 20, 21},\n",
       " {22, 23, 24},\n",
       " {25, 26},\n",
       " {27, 28},\n",
       " {29, 30},\n",
       " {31, 32},\n",
       " {33, 34, 35},\n",
       " {36, 37}]"
      ]
     },
     "execution_count": 15,
     "metadata": {},
     "output_type": "execute_result"
    }
   ],
   "source": [
    "gt_clusters"
   ]
  },
  {
   "cell_type": "code",
   "execution_count": 16,
   "metadata": {},
   "outputs": [
    {
     "data": {
      "application/vnd.jupyter.widget-view+json": {
       "model_id": "3cb94bc64d52433c9b178b352c6c42c8",
       "version_major": 2,
       "version_minor": 0
      },
      "text/plain": [
       "  0%|          | 0/1003 [00:00<?, ?it/s]"
      ]
     },
     "metadata": {},
     "output_type": "display_data"
    },
    {
     "name": "stdout",
     "output_type": "stream",
     "text": [
      "Average Acc: 0.9777334662678636 | Exact Match Acc: 0.8664007976071785\n"
     ]
    }
   ],
   "source": [
    "overall_acc = 0\n",
    "exact_match = 0\n",
    "for i in tqdm(range(len(dataset))):\n",
    "    feat, adj, cid, h1id, node_list, gtmat, obj_mask = dataset[i]\n",
    "    obj_types = torch.tensor(dataset.obj_types[i])\n",
    "    feat, adj, cid, h1id, gtmat, obj_mask = map(lambda x: x.to(device), (feat, adj, cid, h1id, gtmat, obj_mask))\n",
    "    with torch.no_grad():\n",
    "        pred = net(feat, adj, h1id)\n",
    "\n",
    "    pred = F.softmax(pred, dim=1)\n",
    "    pred = pred.view(feat.shape[0], h1id.shape[1], 2)\n",
    "    \n",
    "    c_, pred_clusters = extract_clusters_from_matrix(pred, obj_mask, obj_types,)\n",
    "    _, gt_clusters = extract_clusters_from_matrix(gtmat.cpu(), obj_mask, obj_types, prediction=False)\n",
    "    \n",
    "    matches = 0\n",
    "    for pred_c in pred_clusters:\n",
    "        if pred_c in gt_clusters:\n",
    "            matches += 1\n",
    "            \n",
    "    overall_acc += matches/len(gt_clusters)\n",
    "    if matches == len(gt_clusters):\n",
    "        exact_match += 1\n",
    "    \n",
    "print(f'Average Acc: {overall_acc/(i+1)} | Exact Match Acc: {exact_match/(i+1)}')"
   ]
  },
  {
   "cell_type": "code",
   "execution_count": 13,
   "metadata": {},
   "outputs": [
    {
     "data": {
      "text/plain": [
       "tensor([[[0.0000, 0.1414, 0.0000,  ..., 0.0000, 0.0000, 0.0000],\n",
       "         [0.1414, 0.0000, 0.1291,  ..., 0.0000, 0.0000, 0.0000],\n",
       "         [0.0000, 0.1291, 0.0000,  ..., 0.0000, 0.0000, 0.0000],\n",
       "         ...,\n",
       "         [0.0000, 0.0000, 0.0000,  ..., 0.0000, 0.0000, 0.0000],\n",
       "         [0.0000, 0.0000, 0.0000,  ..., 0.0000, 0.0000, 0.0000],\n",
       "         [0.0000, 0.0000, 0.0000,  ..., 0.0000, 0.0000, 0.0000]],\n",
       "\n",
       "        [[0.0000, 0.0000, 0.1414,  ..., 0.0000, 0.0000, 0.0000],\n",
       "         [0.0000, 0.0000, 0.1291,  ..., 0.0000, 0.0000, 0.0000],\n",
       "         [0.1414, 0.1291, 0.0000,  ..., 0.0000, 0.0000, 0.0000],\n",
       "         ...,\n",
       "         [0.0000, 0.0000, 0.0000,  ..., 0.0000, 0.0000, 0.0000],\n",
       "         [0.0000, 0.0000, 0.0000,  ..., 0.0000, 0.0000, 0.0000],\n",
       "         [0.0000, 0.0000, 0.0000,  ..., 0.0000, 0.0000, 0.0000]],\n",
       "\n",
       "        [[0.0000, 0.0000, 0.1443,  ..., 0.0000, 0.0000, 0.0000],\n",
       "         [0.0000, 0.0000, 0.1667,  ..., 0.0000, 0.0000, 0.0000],\n",
       "         [0.1443, 0.1667, 0.0000,  ..., 0.0000, 0.0000, 0.0000],\n",
       "         ...,\n",
       "         [0.0000, 0.0000, 0.0000,  ..., 0.0000, 0.0000, 0.0000],\n",
       "         [0.0000, 0.0000, 0.0000,  ..., 0.0000, 0.0000, 0.0000],\n",
       "         [0.0000, 0.0000, 0.0000,  ..., 0.0000, 0.0000, 0.0000]],\n",
       "\n",
       "        ...,\n",
       "\n",
       "        [[0.0000, 0.1581, 0.1581,  ..., 0.0000, 0.0000, 0.0000],\n",
       "         [0.1581, 0.0000, 0.1250,  ..., 0.0000, 0.0000, 0.0000],\n",
       "         [0.1581, 0.1250, 0.0000,  ..., 0.0000, 0.0000, 0.0000],\n",
       "         ...,\n",
       "         [0.0000, 0.0000, 0.0000,  ..., 0.0000, 0.0000, 0.0000],\n",
       "         [0.0000, 0.0000, 0.0000,  ..., 0.0000, 0.0000, 0.0000],\n",
       "         [0.0000, 0.0000, 0.0000,  ..., 0.0000, 0.0000, 0.0000]],\n",
       "\n",
       "        [[0.0000, 0.1690, 0.0000,  ..., 0.0000, 0.0000, 0.0000],\n",
       "         [0.1690, 0.0000, 0.0000,  ..., 0.0000, 0.0000, 0.0000],\n",
       "         [0.0000, 0.0000, 0.0000,  ..., 0.0000, 0.0000, 0.0000],\n",
       "         ...,\n",
       "         [0.0000, 0.0000, 0.0000,  ..., 0.0000, 0.0000, 0.0000],\n",
       "         [0.0000, 0.0000, 0.0000,  ..., 0.0000, 0.0000, 0.0000],\n",
       "         [0.0000, 0.0000, 0.0000,  ..., 0.0000, 0.0000, 0.0000]],\n",
       "\n",
       "        [[0.0000, 0.1581, 0.1581,  ..., 0.0000, 0.0000, 0.0000],\n",
       "         [0.1581, 0.0000, 0.1250,  ..., 0.0000, 0.0000, 0.0000],\n",
       "         [0.1581, 0.1250, 0.0000,  ..., 0.0000, 0.0000, 0.0000],\n",
       "         ...,\n",
       "         [0.0000, 0.0000, 0.0000,  ..., 0.0000, 0.0000, 0.0000],\n",
       "         [0.0000, 0.0000, 0.0000,  ..., 0.0000, 0.0000, 0.0000],\n",
       "         [0.0000, 0.0000, 0.0000,  ..., 0.0000, 0.0000, 0.0000]]],\n",
       "       device='cuda:0')"
      ]
     },
     "execution_count": 13,
     "metadata": {},
     "output_type": "execute_result"
    }
   ],
   "source": [
    "adj"
   ]
  }
 ],
 "metadata": {
  "kernelspec": {
   "display_name": "Python 3",
   "language": "python",
   "name": "python3"
  },
  "language_info": {
   "codemirror_mode": {
    "name": "ipython",
    "version": 3
   },
   "file_extension": ".py",
   "mimetype": "text/x-python",
   "name": "python",
   "nbconvert_exporter": "python",
   "pygments_lexer": "ipython3",
   "version": "3.7.3"
  }
 },
 "nbformat": 4,
 "nbformat_minor": 2
}
